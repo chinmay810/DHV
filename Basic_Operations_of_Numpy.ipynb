{
  "nbformat": 4,
  "nbformat_minor": 0,
  "metadata": {
    "colab": {
      "provenance": []
    },
    "kernelspec": {
      "name": "python3",
      "display_name": "Python 3"
    },
    "language_info": {
      "name": "python"
    }
  },
  "cells": [
    {
      "cell_type": "code",
      "execution_count": null,
      "metadata": {
        "colab": {
          "base_uri": "https://localhost:8080/"
        },
        "id": "VQNK0RWNqg1M",
        "outputId": "412e5d09-0130-4361-aed8-6336c8d9ff7e"
      },
      "outputs": [
        {
          "output_type": "stream",
          "name": "stdout",
          "text": [
            "1D array:\n",
            "Shape: (5,)\n",
            "Size: 5\n",
            "Dimension: 1\n",
            "Length: 5\n",
            "\n",
            "2D array:\n",
            "Shape: (2, 3)\n",
            "Size: 6\n",
            "Dimension: 2\n",
            "Length: 2\n",
            "\n",
            "3D array:\n",
            "Shape: (2, 2, 3)\n",
            "Size: 12\n",
            "Dimension: 3\n",
            "Length: 2\n"
          ]
        }
      ],
      "source": [
        "import numpy as np\n",
        "\n",
        "a = np.array([1, 2, 3, 4, 5])\n",
        "\n",
        "print(\"1D array:\")\n",
        "print(\"Shape:\", a.shape)\n",
        "print(\"Size:\", a.size)\n",
        "print(\"Dimension:\", a.ndim)\n",
        "print(\"Length:\", len(a))\n",
        "\n",
        "b = np.array([[1, 2, 3], [4, 5, 6]])\n",
        "\n",
        "print(\"\\n2D array:\")\n",
        "print(\"Shape:\", b.shape)\n",
        "print(\"Size:\", b.size)\n",
        "print(\"Dimension:\", b.ndim)\n",
        "print(\"Length:\", len(b))\n",
        "\n",
        "c = np.array([[[1, 2, 3], [4, 5, 6]], [[7, 8, 9], [10, 11, 12]]])\n",
        "\n",
        "print(\"\\n3D array:\")\n",
        "print(\"Shape:\", c.shape)\n",
        "print(\"Size:\", c.size)\n",
        "print(\"Dimension:\", c.ndim)\n",
        "print(\"Length:\", len(c))\n"
      ]
    },
    {
      "cell_type": "code",
      "source": [
        "arr1 = np.arange(0, 10, 2)\n",
        "print(\"arange:\", arr1)\n",
        "\n",
        "# random.randint\n",
        "rand_int = np.random.randint(1, 100, size=5)\n",
        "print(\"random.randint:\", rand_int)\n",
        "\n",
        "# random.rand\n",
        "rand_arr = np.random.rand(3, 2)\n",
        "print(\"random.rand:\", rand_arr)\n",
        "\n",
        "# linspace: Return evenly spaced numbers over a specified interval.\n",
        "lin_space = np.linspace(0, 5, 10)\n",
        "print(\"linspace:\", lin_space)\n",
        "\n",
        "# ones: Return a new array of given shape and type, filled with ones.\n",
        "ones_arr = np.ones((2, 3))\n",
        "print(\"ones:\", ones_arr)\n",
        "\n",
        "# zeros: Return a new array of given shape and type, filled with zeros.\n",
        "zeros_arr = np.zeros((3, 2))\n",
        "print(\"zeros:\", zeros_arr)\n",
        "\n",
        "# diag: Extract diagonal or construct a diagonal array.\n",
        "arr = np.array([[1, 2, 3], [4, 5, 6], [7, 8, 9]])\n",
        "diagonal_elements = np.diag(arr)\n",
        "print(\"diag:\", diagonal_elements)\n",
        "\n",
        "# sum: Sum of array elements over a given axis.\n",
        "arr = np.array([[1, 2], [3, 4]])\n",
        "print(\"sum:\", np.sum(arr))\n",
        "\n",
        "arr = np.array([3, 1, 5, 2, 8])\n",
        "print(\"min:\", np.min(arr))\n",
        "\n",
        "print(\"max:\", np.max(arr))\n",
        "\n",
        "print(\"mean:\", np.mean(arr))"
      ],
      "metadata": {
        "colab": {
          "base_uri": "https://localhost:8080/"
        },
        "id": "4cnTgGA8sHtK",
        "outputId": "7051289c-d717-4fdb-8dbe-7d4d70148099"
      },
      "execution_count": null,
      "outputs": [
        {
          "output_type": "stream",
          "name": "stdout",
          "text": [
            "arange: [0 2 4 6 8]\n",
            "random.randint: [99 58 83 98 10]\n",
            "random.rand: [[0.82138821 0.60564552]\n",
            " [0.73092496 0.42758126]\n",
            " [0.39820355 0.51576858]]\n",
            "linspace: [0.         0.55555556 1.11111111 1.66666667 2.22222222 2.77777778\n",
            " 3.33333333 3.88888889 4.44444444 5.        ]\n",
            "ones: [[1. 1. 1.]\n",
            " [1. 1. 1.]]\n",
            "zeros: [[0. 0.]\n",
            " [0. 0.]\n",
            " [0. 0.]]\n",
            "diag: [1 5 9]\n",
            "sum: 10\n",
            "min: 1\n",
            "max: 8\n",
            "mean: 3.8\n"
          ]
        }
      ]
    },
    {
      "cell_type": "code",
      "source": [
        "import numpy as np\n",
        "\n",
        "\n",
        "num_students = 50\n",
        "student_marks = np.random.randint(0, 101, size=num_students)\n",
        "\n",
        "passed_students_count = np.sum(student_marks >= 30)\n",
        "\n",
        "\n",
        "failed_students_marks = student_marks[student_marks < 30]\n",
        "\n",
        "print(\"Number of students passed:\", passed_students_count)\n",
        "print(\"Marks of failed students:\", failed_students_marks)"
      ],
      "metadata": {
        "id": "fLAkqSYwvByA",
        "outputId": "8ec12769-e66b-4012-ebee-e96bd286517b",
        "colab": {
          "base_uri": "https://localhost:8080/"
        }
      },
      "execution_count": null,
      "outputs": [
        {
          "output_type": "stream",
          "name": "stdout",
          "text": [
            "Number of students passed: 35\n",
            "Marks of failed students: [ 5 24 11  8 13 23 10 11  1 11 28  6  2 13 23]\n"
          ]
        }
      ]
    },
    {
      "cell_type": "code",
      "source": [
        "\n",
        "import numpy as np\n",
        "rand_arr = np.random.randint(1, 51, size=(2, 5))\n",
        "print(rand_arr)\n"
      ],
      "metadata": {
        "colab": {
          "base_uri": "https://localhost:8080/"
        },
        "id": "agDWQ8WvtYAJ",
        "outputId": "ac4b1630-8fb3-49f2-c105-d90adb531aa5"
      },
      "execution_count": null,
      "outputs": [
        {
          "output_type": "stream",
          "name": "stdout",
          "text": [
            "[[34 19 40 35  1]\n",
            " [ 1 38 35 10 30]]\n"
          ]
        }
      ]
    },
    {
      "cell_type": "code",
      "source": [
        "import numpy as np\n",
        "odd_numbers = np.arange(-29, 11, 2)\n",
        "print(\"Array of odd numbers between -30 and 10:\", odd_numbers)"
      ],
      "metadata": {
        "colab": {
          "base_uri": "https://localhost:8080/"
        },
        "id": "-4DRvCivxh6_",
        "outputId": "2791ed44-06ca-4d93-f516-254fad1b8c21"
      },
      "execution_count": 7,
      "outputs": [
        {
          "output_type": "stream",
          "name": "stdout",
          "text": [
            "Array of odd numbers between -30 and 10: [-29 -27 -25 -23 -21 -19 -17 -15 -13 -11  -9  -7  -5  -3  -1   1   3   5\n",
            "   7   9]\n"
          ]
        }
      ]
    }
  ]
}