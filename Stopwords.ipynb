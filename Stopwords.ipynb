{
  "nbformat": 4,
  "nbformat_minor": 0,
  "metadata": {
    "colab": {
      "provenance": [],
      "authorship_tag": "ABX9TyMZ5Hzi/6vpgXLnuIrhu14O",
      "include_colab_link": true
    },
    "kernelspec": {
      "name": "python3",
      "display_name": "Python 3"
    },
    "language_info": {
      "name": "python"
    }
  },
  "cells": [
    {
      "cell_type": "markdown",
      "metadata": {
        "id": "view-in-github",
        "colab_type": "text"
      },
      "source": [
        "<a href=\"https://colab.research.google.com/github/chinmay810/DHV/blob/main/Stopwords.ipynb\" target=\"_parent\"><img src=\"https://colab.research.google.com/assets/colab-badge.svg\" alt=\"Open In Colab\"/></a>"
      ]
    },
    {
      "cell_type": "code",
      "execution_count": null,
      "metadata": {
        "colab": {
          "base_uri": "https://localhost:8080/"
        },
        "id": "g0jRly7m6giT",
        "outputId": "061f8b95-734c-4bad-f919-8bf81d25bf37"
      },
      "outputs": [
        {
          "output_type": "stream",
          "name": "stderr",
          "text": [
            "[nltk_data] Downloading package stopwords to /root/nltk_data...\n",
            "[nltk_data]   Unzipping corpora/stopwords.zip.\n"
          ]
        },
        {
          "output_type": "execute_result",
          "data": {
            "text/plain": [
              "True"
            ]
          },
          "metadata": {},
          "execution_count": 1
        }
      ],
      "source": [
        "import nltk\n",
        "from nltk.corpus import stopwords\n",
        "nltk.download('stopwords')"
      ]
    },
    {
      "cell_type": "code",
      "source": [
        "def remove_stop_words(string):\n",
        "    stop_words = set(stopwords.words('english'))\n",
        "    words = string.split()\n",
        "    filtered_words = [word for word in words if word.lower() not in stop_words]\n",
        "    new_string = ' '.join(filtered_words)\n",
        "    return new_string\n",
        "\n",
        "input_string = \"This is an example sentence to remove stop words from.\"\n",
        "result = remove_stop_words(input_string)\n",
        "print(\"Original string:\",input_string)\n",
        "print(\"Modified string:\",result)"
      ],
      "metadata": {
        "colab": {
          "base_uri": "https://localhost:8080/"
        },
        "id": "GsLv73oq6w_-",
        "outputId": "cb20f111-d84d-454b-9708-2bd88a32c72f"
      },
      "execution_count": null,
      "outputs": [
        {
          "output_type": "stream",
          "name": "stdout",
          "text": [
            "Original string: This is an example sentence to remove stop words from.\n",
            "Modified string: example sentence remove stop words from.\n"
          ]
        }
      ]
    },
    {
      "cell_type": "code",
      "source": [],
      "metadata": {
        "colab": {
          "base_uri": "https://localhost:8080/"
        },
        "id": "KT3JbVLA688t",
        "outputId": "63fc4980-9415-4a1a-9afb-e94dd5216595"
      },
      "execution_count": null,
      "outputs": [
        {
          "output_type": "stream",
          "name": "stderr",
          "text": [
            "[nltk_data] Downloading package stopwords to /root/nltk_data...\n",
            "[nltk_data]   Package stopwords is already up-to-date!\n"
          ]
        }
      ]
    },
    {
      "cell_type": "code",
      "source": [
        "def remove_stop_words(string):\n",
        "    stop_words = set(stopwords.words('english'))\n",
        "    words = string.split()\n",
        "    filtered_words = [word for word in words if word.lower() not in stop_words]\n",
        "    new_string = ' '.join(filtered_words)\n",
        "    return new_string\n",
        "\n",
        "input_string = \"This is an example sentence to remove stop words from the sentence to make the sentence clear.\"\n",
        "result = remove_stop_words(input_string)\n",
        "print(\"Original string:\", input_string)\n",
        "print(\"Modified string:\", result)\n",
        "\n",
        "stop_words = set(stopwords.words('english'))\n",
        "words = input_string.split()\n",
        "stopword_freq = Counter([word for word in words if word.lower() in stop_words])\n",
        "\n",
        "plt.bar(stopword_freq.keys(), stopword_freq.values())\n",
        "plt.xlabel('Stopwords')\n",
        "plt.ylabel('Frequency')\n",
        "plt.title('Frequency of Stopwords')\n",
        "plt.show()"
      ],
      "metadata": {
        "colab": {
          "base_uri": "https://localhost:8080/",
          "height": 507
        },
        "id": "I7ZIrmry-Jmf",
        "outputId": "6455f698-ed98-485c-e103-ef9b0bd97930"
      },
      "execution_count": null,
      "outputs": [
        {
          "output_type": "stream",
          "name": "stdout",
          "text": [
            "Original string: This is an example sentence to remove stop words from the sentence to make the sentence clear.\n",
            "Modified string: example sentence remove stop words sentence make sentence clear.\n"
          ]
        },
        {
          "output_type": "display_data",
          "data": {
            "text/plain": [
              "<Figure size 640x480 with 1 Axes>"
            ],
            "image/png": "[encoded data removed]"
          },
          "metadata": {}
        }
      ]
    },
    {
      "cell_type": "code",
      "source": [
        "from collections import Counter\n",
        "from nltk.corpus import stopwords\n",
        "\n",
        "def remove_stop_words(string):\n",
        "    stop_words = set(stopwords.words('english'))\n",
        "    words = string.split()\n",
        "    filtered_words = [word for word in words if word.lower() not in stop_words]\n",
        "    new_string = ' '.join(filtered_words)\n",
        "    stopwords_removed = [word for word in words if word.lower() in stop_words]\n",
        "    return new_string, Counter(stopwords_removed)\n",
        "\n",
        "input_string = \"This is an example sentence to remove stop words from.\"\n",
        "result, stopwords_freq = remove_stop_words(input_string)\n",
        "\n",
        "print(\"Original string:\", input_string)\n",
        "print(\"Modified string:\", result)\n",
        "print(\"Frequency of stopwords:\", stopwords_freq)"
      ],
      "metadata": {
        "colab": {
          "base_uri": "https://localhost:8080/"
        },
        "id": "tTfkXnDg-P7d",
        "outputId": "70e62b5b-7f30-48f0-9704-3e2c61cf8822"
      },
      "execution_count": null,
      "outputs": [
        {
          "output_type": "stream",
          "name": "stdout",
          "text": [
            "Original string: This is an example sentence to remove stop words from.\n",
            "Modified string: example sentence remove stop words from.\n",
            "Frequency of stopwords: Counter({'This': 1, 'is': 1, 'an': 1, 'to': 1})\n"
          ]
        }
      ]
    },
    {
      "cell_type": "code",
      "source": [],
      "metadata": {
        "id": "S0bTevRu-c7V"
      },
      "execution_count": null,
      "outputs": []
    },
    {
      "cell_type": "markdown",
      "source": [],
      "metadata": {
        "id": "uODUJGGS-zDP"
      }
    }
  ]
}